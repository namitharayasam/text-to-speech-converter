{
 "cells": [
  {
   "cell_type": "markdown",
   "id": "0ee69599",
   "metadata": {},
   "source": [
    "# Using gTTS"
   ]
  },
  {
   "cell_type": "code",
   "execution_count": 12,
   "id": "6d105fa9",
   "metadata": {
    "collapsed": true
   },
   "outputs": [
    {
     "name": "stdout",
     "output_type": "stream",
     "text": [
      "Requirement already satisfied: gTTS in /Users/namitha/opt/anaconda3/lib/python3.9/site-packages (2.4.0)\n",
      "Requirement already satisfied: requests<3,>=2.27 in /Users/namitha/opt/anaconda3/lib/python3.9/site-packages (from gTTS) (2.27.1)\n",
      "Requirement already satisfied: click<8.2,>=7.1 in /Users/namitha/opt/anaconda3/lib/python3.9/site-packages (from gTTS) (8.0.4)\n",
      "Requirement already satisfied: urllib3<1.27,>=1.21.1 in /Users/namitha/opt/anaconda3/lib/python3.9/site-packages (from requests<3,>=2.27->gTTS) (1.26.9)\n",
      "Requirement already satisfied: certifi>=2017.4.17 in /Users/namitha/opt/anaconda3/lib/python3.9/site-packages (from requests<3,>=2.27->gTTS) (2021.10.8)\n",
      "Requirement already satisfied: charset-normalizer~=2.0.0 in /Users/namitha/opt/anaconda3/lib/python3.9/site-packages (from requests<3,>=2.27->gTTS) (2.0.4)\n",
      "Requirement already satisfied: idna<4,>=2.5 in /Users/namitha/opt/anaconda3/lib/python3.9/site-packages (from requests<3,>=2.27->gTTS) (3.3)\n",
      "Note: you may need to restart the kernel to use updated packages.\n"
     ]
    }
   ],
   "source": [
    "pip install gTTS"
   ]
  },
  {
   "cell_type": "code",
   "execution_count": 3,
   "id": "5a248786",
   "metadata": {
    "collapsed": true
   },
   "outputs": [
    {
     "name": "stdout",
     "output_type": "stream",
     "text": [
      "Requirement already satisfied: pip in /Users/namitha/opt/anaconda3/lib/python3.9/site-packages (23.0.1)\n",
      "Collecting pip\n",
      "  Downloading pip-23.3.1-py3-none-any.whl (2.1 MB)\n",
      "\u001b[2K     \u001b[90m━━━━━━━━━━━━━━━━━━━━━━━━━━━━━━━━━━━━━━━━\u001b[0m \u001b[32m2.1/2.1 MB\u001b[0m \u001b[31m213.1 kB/s\u001b[0m eta \u001b[36m0:00:00\u001b[0m00:01\u001b[0m00:01\u001b[0m\n",
      "\u001b[?25hInstalling collected packages: pip\n",
      "  Attempting uninstall: pip\n",
      "    Found existing installation: pip 23.0.1\n",
      "    Uninstalling pip-23.0.1:\n",
      "      Successfully uninstalled pip-23.0.1\n",
      "Successfully installed pip-23.3.1\n",
      "Note: you may need to restart the kernel to use updated packages.\n"
     ]
    }
   ],
   "source": [
    "pip install --upgrade pip"
   ]
  },
  {
   "cell_type": "code",
   "execution_count": 4,
   "id": "96491a55",
   "metadata": {},
   "outputs": [],
   "source": [
    "from gtts import gTTS"
   ]
  },
  {
   "cell_type": "code",
   "execution_count": 13,
   "id": "a2b57a99",
   "metadata": {},
   "outputs": [],
   "source": [
    "# take text input from user \n",
    "text=str(input(\"Enter the text you want to convert to speech:\\n\"))"
   ]
  },
  {
   "cell_type": "code",
   "execution_count": 14,
   "id": "703dbc03",
   "metadata": {},
   "outputs": [],
   "source": [
    "# convert the entered text to speech\n",
    "textToSpeech=gTTS(text)"
   ]
  },
  {
   "cell_type": "code",
   "execution_count": 15,
   "id": "455dc4a7",
   "metadata": {},
   "outputs": [],
   "source": [
    "# save the audio file to desired location\n",
    "textToSpeech.save(\"/enter/path/to/save/filename.mp3\")"
   ]
  },
  {
   "cell_type": "markdown",
   "id": "158f50f8",
   "metadata": {},
   "source": [
    "# Using pyttsx3"
   ]
  },
  {
   "cell_type": "code",
   "execution_count": 19,
   "id": "6f1011e0",
   "metadata": {
    "collapsed": true
   },
   "outputs": [
    {
     "name": "stdout",
     "output_type": "stream",
     "text": [
      "Collecting pyttsx3\n",
      "  Downloading pyttsx3-2.90-py3-none-any.whl (39 kB)\n",
      "Requirement already satisfied: pyobjc>=2.4 in /Users/namitha/opt/anaconda3/lib/python3.9/site-packages (from pyttsx3) (8.5)\n",
      "Requirement already satisfied: pyobjc-core==8.5 in /Users/namitha/opt/anaconda3/lib/python3.9/site-packages (from pyobjc>=2.4->pyttsx3) (8.5)\n",
      "Requirement already satisfied: pyobjc-framework-AddressBook==8.5 in /Users/namitha/opt/anaconda3/lib/python3.9/site-packages (from pyobjc>=2.4->pyttsx3) (8.5)\n",
      "Requirement already satisfied: pyobjc-framework-AppleScriptKit==8.5 in /Users/namitha/opt/anaconda3/lib/python3.9/site-packages (from pyobjc>=2.4->pyttsx3) (8.5)\n",
      "Requirement already satisfied: pyobjc-framework-ApplicationServices==8.5 in /Users/namitha/opt/anaconda3/lib/python3.9/site-packages (from pyobjc>=2.4->pyttsx3) (8.5)\n",
      "Requirement already satisfied: pyobjc-framework-Automator==8.5 in /Users/namitha/opt/anaconda3/lib/python3.9/site-packages (from pyobjc>=2.4->pyttsx3) (8.5)\n",
      "Requirement already satisfied: pyobjc-framework-CFNetwork==8.5 in /Users/namitha/opt/anaconda3/lib/python3.9/site-packages (from pyobjc>=2.4->pyttsx3) (8.5)\n",
      "Requirement already satisfied: pyobjc-framework-Cocoa==8.5 in /Users/namitha/opt/anaconda3/lib/python3.9/site-packages (from pyobjc>=2.4->pyttsx3) (8.5)\n",
      "Requirement already satisfied: pyobjc-framework-CoreAudio==8.5 in /Users/namitha/opt/anaconda3/lib/python3.9/site-packages (from pyobjc>=2.4->pyttsx3) (8.5)\n",
      "Requirement already satisfied: pyobjc-framework-CoreAudioKit==8.5 in /Users/namitha/opt/anaconda3/lib/python3.9/site-packages (from pyobjc>=2.4->pyttsx3) (8.5)\n",
      "Requirement already satisfied: pyobjc-framework-CoreData==8.5 in /Users/namitha/opt/anaconda3/lib/python3.9/site-packages (from pyobjc>=2.4->pyttsx3) (8.5)\n",
      "Requirement already satisfied: pyobjc-framework-CoreMIDI==8.5 in /Users/namitha/opt/anaconda3/lib/python3.9/site-packages (from pyobjc>=2.4->pyttsx3) (8.5)\n",
      "Requirement already satisfied: pyobjc-framework-CoreServices==8.5 in /Users/namitha/opt/anaconda3/lib/python3.9/site-packages (from pyobjc>=2.4->pyttsx3) (8.5)\n",
      "Requirement already satisfied: pyobjc-framework-CoreText==8.5 in /Users/namitha/opt/anaconda3/lib/python3.9/site-packages (from pyobjc>=2.4->pyttsx3) (8.5)\n",
      "Requirement already satisfied: pyobjc-framework-DiscRecording==8.5 in /Users/namitha/opt/anaconda3/lib/python3.9/site-packages (from pyobjc>=2.4->pyttsx3) (8.5)\n",
      "Requirement already satisfied: pyobjc-framework-DiscRecordingUI==8.5 in /Users/namitha/opt/anaconda3/lib/python3.9/site-packages (from pyobjc>=2.4->pyttsx3) (8.5)\n",
      "Requirement already satisfied: pyobjc-framework-DiskArbitration==8.5 in /Users/namitha/opt/anaconda3/lib/python3.9/site-packages (from pyobjc>=2.4->pyttsx3) (8.5)\n",
      "Requirement already satisfied: pyobjc-framework-DVDPlayback==8.5 in /Users/namitha/opt/anaconda3/lib/python3.9/site-packages (from pyobjc>=2.4->pyttsx3) (8.5)\n",
      "Requirement already satisfied: pyobjc-framework-ExceptionHandling==8.5 in /Users/namitha/opt/anaconda3/lib/python3.9/site-packages (from pyobjc>=2.4->pyttsx3) (8.5)\n",
      "Requirement already satisfied: pyobjc-framework-InstallerPlugins==8.5 in /Users/namitha/opt/anaconda3/lib/python3.9/site-packages (from pyobjc>=2.4->pyttsx3) (8.5)\n",
      "Requirement already satisfied: pyobjc-framework-LatentSemanticMapping==8.5 in /Users/namitha/opt/anaconda3/lib/python3.9/site-packages (from pyobjc>=2.4->pyttsx3) (8.5)\n",
      "Requirement already satisfied: pyobjc-framework-LaunchServices==8.5 in /Users/namitha/opt/anaconda3/lib/python3.9/site-packages (from pyobjc>=2.4->pyttsx3) (8.5)\n",
      "Requirement already satisfied: pyobjc-framework-OSAKit==8.5 in /Users/namitha/opt/anaconda3/lib/python3.9/site-packages (from pyobjc>=2.4->pyttsx3) (8.5)\n",
      "Requirement already satisfied: pyobjc-framework-PreferencePanes==8.5 in /Users/namitha/opt/anaconda3/lib/python3.9/site-packages (from pyobjc>=2.4->pyttsx3) (8.5)\n",
      "Requirement already satisfied: pyobjc-framework-Quartz==8.5 in /Users/namitha/opt/anaconda3/lib/python3.9/site-packages (from pyobjc>=2.4->pyttsx3) (8.5)\n",
      "Requirement already satisfied: pyobjc-framework-ScreenSaver==8.5 in /Users/namitha/opt/anaconda3/lib/python3.9/site-packages (from pyobjc>=2.4->pyttsx3) (8.5)\n",
      "Requirement already satisfied: pyobjc-framework-Security==8.5 in /Users/namitha/opt/anaconda3/lib/python3.9/site-packages (from pyobjc>=2.4->pyttsx3) (8.5)\n",
      "Requirement already satisfied: pyobjc-framework-SecurityFoundation==8.5 in /Users/namitha/opt/anaconda3/lib/python3.9/site-packages (from pyobjc>=2.4->pyttsx3) (8.5)\n",
      "Requirement already satisfied: pyobjc-framework-SecurityInterface==8.5 in /Users/namitha/opt/anaconda3/lib/python3.9/site-packages (from pyobjc>=2.4->pyttsx3) (8.5)\n",
      "Requirement already satisfied: pyobjc-framework-SearchKit==8.5 in /Users/namitha/opt/anaconda3/lib/python3.9/site-packages (from pyobjc>=2.4->pyttsx3) (8.5)\n",
      "Requirement already satisfied: pyobjc-framework-SyncServices==8.5 in /Users/namitha/opt/anaconda3/lib/python3.9/site-packages (from pyobjc>=2.4->pyttsx3) (8.5)\n",
      "Requirement already satisfied: pyobjc-framework-SystemConfiguration==8.5 in /Users/namitha/opt/anaconda3/lib/python3.9/site-packages (from pyobjc>=2.4->pyttsx3) (8.5)\n",
      "Requirement already satisfied: pyobjc-framework-WebKit==8.5 in /Users/namitha/opt/anaconda3/lib/python3.9/site-packages (from pyobjc>=2.4->pyttsx3) (8.5)\n",
      "Requirement already satisfied: pyobjc-framework-AppleScriptObjC==8.5 in /Users/namitha/opt/anaconda3/lib/python3.9/site-packages (from pyobjc>=2.4->pyttsx3) (8.5)\n",
      "Requirement already satisfied: pyobjc-framework-CoreLocation==8.5 in /Users/namitha/opt/anaconda3/lib/python3.9/site-packages (from pyobjc>=2.4->pyttsx3) (8.5)\n",
      "Requirement already satisfied: pyobjc-framework-CoreWLAN==8.5 in /Users/namitha/opt/anaconda3/lib/python3.9/site-packages (from pyobjc>=2.4->pyttsx3) (8.5)\n",
      "Requirement already satisfied: pyobjc-framework-ImageCaptureCore==8.5 in /Users/namitha/opt/anaconda3/lib/python3.9/site-packages (from pyobjc>=2.4->pyttsx3) (8.5)\n",
      "Requirement already satisfied: pyobjc-framework-IOSurface==8.5 in /Users/namitha/opt/anaconda3/lib/python3.9/site-packages (from pyobjc>=2.4->pyttsx3) (8.5)\n",
      "Requirement already satisfied: pyobjc-framework-NetFS==8.5 in /Users/namitha/opt/anaconda3/lib/python3.9/site-packages (from pyobjc>=2.4->pyttsx3) (8.5)\n",
      "Requirement already satisfied: pyobjc-framework-OpenDirectory==8.5 in /Users/namitha/opt/anaconda3/lib/python3.9/site-packages (from pyobjc>=2.4->pyttsx3) (8.5)\n",
      "Requirement already satisfied: pyobjc-framework-ServiceManagement==8.5 in /Users/namitha/opt/anaconda3/lib/python3.9/site-packages (from pyobjc>=2.4->pyttsx3) (8.5)\n",
      "Requirement already satisfied: pyobjc-framework-iTunesLibrary==8.5 in /Users/namitha/opt/anaconda3/lib/python3.9/site-packages (from pyobjc>=2.4->pyttsx3) (8.5)\n",
      "Requirement already satisfied: pyobjc-framework-AVFoundation==8.5 in /Users/namitha/opt/anaconda3/lib/python3.9/site-packages (from pyobjc>=2.4->pyttsx3) (8.5)\n",
      "Requirement already satisfied: pyobjc-framework-CoreMedia==8.5 in /Users/namitha/opt/anaconda3/lib/python3.9/site-packages (from pyobjc>=2.4->pyttsx3) (8.5)\n",
      "Requirement already satisfied: pyobjc-framework-CoreMediaIO==8.5 in /Users/namitha/opt/anaconda3/lib/python3.9/site-packages (from pyobjc>=2.4->pyttsx3) (8.5)\n",
      "Requirement already satisfied: pyobjc-framework-IMServicePlugIn==8.5 in /Users/namitha/opt/anaconda3/lib/python3.9/site-packages (from pyobjc>=2.4->pyttsx3) (8.5)\n",
      "Requirement already satisfied: pyobjc-framework-StoreKit==8.5 in /Users/namitha/opt/anaconda3/lib/python3.9/site-packages (from pyobjc>=2.4->pyttsx3) (8.5)\n",
      "Requirement already satisfied: pyobjc-framework-SceneKit==8.5 in /Users/namitha/opt/anaconda3/lib/python3.9/site-packages (from pyobjc>=2.4->pyttsx3) (8.5)\n",
      "Requirement already satisfied: pyobjc-framework-libdispatch==8.5 in /Users/namitha/opt/anaconda3/lib/python3.9/site-packages (from pyobjc>=2.4->pyttsx3) (8.5)\n",
      "Requirement already satisfied: pyobjc-framework-AudioVideoBridging==8.5 in /Users/namitha/opt/anaconda3/lib/python3.9/site-packages (from pyobjc>=2.4->pyttsx3) (8.5)\n",
      "Requirement already satisfied: pyobjc-framework-Accounts==8.5 in /Users/namitha/opt/anaconda3/lib/python3.9/site-packages (from pyobjc>=2.4->pyttsx3) (8.5)\n",
      "Requirement already satisfied: pyobjc-framework-EventKit==8.5 in /Users/namitha/opt/anaconda3/lib/python3.9/site-packages (from pyobjc>=2.4->pyttsx3) (8.5)\n",
      "Requirement already satisfied: pyobjc-framework-GameCenter==8.5 in /Users/namitha/opt/anaconda3/lib/python3.9/site-packages (from pyobjc>=2.4->pyttsx3) (8.5)\n",
      "Requirement already satisfied: pyobjc-framework-Social==8.5 in /Users/namitha/opt/anaconda3/lib/python3.9/site-packages (from pyobjc>=2.4->pyttsx3) (8.5)\n",
      "Requirement already satisfied: pyobjc-framework-GameKit==8.5 in /Users/namitha/opt/anaconda3/lib/python3.9/site-packages (from pyobjc>=2.4->pyttsx3) (8.5)\n",
      "Requirement already satisfied: pyobjc-framework-VideoToolbox==8.5 in /Users/namitha/opt/anaconda3/lib/python3.9/site-packages (from pyobjc>=2.4->pyttsx3) (8.5)\n",
      "Requirement already satisfied: pyobjc-framework-AVKit==8.5 in /Users/namitha/opt/anaconda3/lib/python3.9/site-packages (from pyobjc>=2.4->pyttsx3) (8.5)\n",
      "Requirement already satisfied: pyobjc-framework-GameController==8.5 in /Users/namitha/opt/anaconda3/lib/python3.9/site-packages (from pyobjc>=2.4->pyttsx3) (8.5)\n",
      "Requirement already satisfied: pyobjc-framework-MapKit==8.5 in /Users/namitha/opt/anaconda3/lib/python3.9/site-packages (from pyobjc>=2.4->pyttsx3) (8.5)\n",
      "Requirement already satisfied: pyobjc-framework-MediaAccessibility==8.5 in /Users/namitha/opt/anaconda3/lib/python3.9/site-packages (from pyobjc>=2.4->pyttsx3) (8.5)\n",
      "Requirement already satisfied: pyobjc-framework-MediaLibrary==8.5 in /Users/namitha/opt/anaconda3/lib/python3.9/site-packages (from pyobjc>=2.4->pyttsx3) (8.5)\n",
      "Requirement already satisfied: pyobjc-framework-MediaToolbox==8.5 in /Users/namitha/opt/anaconda3/lib/python3.9/site-packages (from pyobjc>=2.4->pyttsx3) (8.5)\n",
      "Requirement already satisfied: pyobjc-framework-SpriteKit==8.5 in /Users/namitha/opt/anaconda3/lib/python3.9/site-packages (from pyobjc>=2.4->pyttsx3) (8.5)\n",
      "Requirement already satisfied: pyobjc-framework-CloudKit==8.5 in /Users/namitha/opt/anaconda3/lib/python3.9/site-packages (from pyobjc>=2.4->pyttsx3) (8.5)\n",
      "Requirement already satisfied: pyobjc-framework-CoreBluetooth==8.5 in /Users/namitha/opt/anaconda3/lib/python3.9/site-packages (from pyobjc>=2.4->pyttsx3) (8.5)\n",
      "Requirement already satisfied: pyobjc-framework-CryptoTokenKit==8.5 in /Users/namitha/opt/anaconda3/lib/python3.9/site-packages (from pyobjc>=2.4->pyttsx3) (8.5)\n",
      "Requirement already satisfied: pyobjc-framework-FinderSync==8.5 in /Users/namitha/opt/anaconda3/lib/python3.9/site-packages (from pyobjc>=2.4->pyttsx3) (8.5)\n",
      "Requirement already satisfied: pyobjc-framework-LocalAuthentication==8.5 in /Users/namitha/opt/anaconda3/lib/python3.9/site-packages (from pyobjc>=2.4->pyttsx3) (8.5)\n",
      "Requirement already satisfied: pyobjc-framework-MultipeerConnectivity==8.5 in /Users/namitha/opt/anaconda3/lib/python3.9/site-packages (from pyobjc>=2.4->pyttsx3) (8.5)\n",
      "Requirement already satisfied: pyobjc-framework-NotificationCenter==8.5 in /Users/namitha/opt/anaconda3/lib/python3.9/site-packages (from pyobjc>=2.4->pyttsx3) (8.5)\n",
      "Requirement already satisfied: pyobjc-framework-Contacts==8.5 in /Users/namitha/opt/anaconda3/lib/python3.9/site-packages (from pyobjc>=2.4->pyttsx3) (8.5)\n",
      "Requirement already satisfied: pyobjc-framework-ContactsUI==8.5 in /Users/namitha/opt/anaconda3/lib/python3.9/site-packages (from pyobjc>=2.4->pyttsx3) (8.5)\n",
      "Requirement already satisfied: pyobjc-framework-Metal==8.5 in /Users/namitha/opt/anaconda3/lib/python3.9/site-packages (from pyobjc>=2.4->pyttsx3) (8.5)\n",
      "Requirement already satisfied: pyobjc-framework-MetalKit==8.5 in /Users/namitha/opt/anaconda3/lib/python3.9/site-packages (from pyobjc>=2.4->pyttsx3) (8.5)\n",
      "Requirement already satisfied: pyobjc-framework-ModelIO==8.5 in /Users/namitha/opt/anaconda3/lib/python3.9/site-packages (from pyobjc>=2.4->pyttsx3) (8.5)\n",
      "Requirement already satisfied: pyobjc-framework-NetworkExtension==8.5 in /Users/namitha/opt/anaconda3/lib/python3.9/site-packages (from pyobjc>=2.4->pyttsx3) (8.5)\n",
      "Requirement already satisfied: pyobjc-framework-Photos==8.5 in /Users/namitha/opt/anaconda3/lib/python3.9/site-packages (from pyobjc>=2.4->pyttsx3) (8.5)\n",
      "Requirement already satisfied: pyobjc-framework-PhotosUI==8.5 in /Users/namitha/opt/anaconda3/lib/python3.9/site-packages (from pyobjc>=2.4->pyttsx3) (8.5)\n",
      "Requirement already satisfied: pyobjc-framework-SafariServices==8.5 in /Users/namitha/opt/anaconda3/lib/python3.9/site-packages (from pyobjc>=2.4->pyttsx3) (8.5)\n",
      "Requirement already satisfied: pyobjc-framework-GameplayKit==8.5 in /Users/namitha/opt/anaconda3/lib/python3.9/site-packages (from pyobjc>=2.4->pyttsx3) (8.5)\n",
      "Requirement already satisfied: pyobjc-framework-Intents==8.5 in /Users/namitha/opt/anaconda3/lib/python3.9/site-packages (from pyobjc>=2.4->pyttsx3) (8.5)\n",
      "Requirement already satisfied: pyobjc-framework-MediaPlayer==8.5 in /Users/namitha/opt/anaconda3/lib/python3.9/site-packages (from pyobjc>=2.4->pyttsx3) (8.5)\n",
      "Requirement already satisfied: pyobjc-framework-ColorSync==8.5 in /Users/namitha/opt/anaconda3/lib/python3.9/site-packages (from pyobjc>=2.4->pyttsx3) (8.5)\n",
      "Requirement already satisfied: pyobjc-framework-CoreML==8.5 in /Users/namitha/opt/anaconda3/lib/python3.9/site-packages (from pyobjc>=2.4->pyttsx3) (8.5)\n",
      "Requirement already satisfied: pyobjc-framework-CoreSpotlight==8.5 in /Users/namitha/opt/anaconda3/lib/python3.9/site-packages (from pyobjc>=2.4->pyttsx3) (8.5)\n",
      "Requirement already satisfied: pyobjc-framework-ExternalAccessory==8.5 in /Users/namitha/opt/anaconda3/lib/python3.9/site-packages (from pyobjc>=2.4->pyttsx3) (8.5)\n",
      "Requirement already satisfied: pyobjc-framework-MetalPerformanceShaders==8.5 in /Users/namitha/opt/anaconda3/lib/python3.9/site-packages (from pyobjc>=2.4->pyttsx3) (8.5)\n",
      "Requirement already satisfied: pyobjc-framework-Vision==8.5 in /Users/namitha/opt/anaconda3/lib/python3.9/site-packages (from pyobjc>=2.4->pyttsx3) (8.5)\n",
      "Requirement already satisfied: pyobjc-framework-AdSupport==8.5 in /Users/namitha/opt/anaconda3/lib/python3.9/site-packages (from pyobjc>=2.4->pyttsx3) (8.5)\n",
      "Requirement already satisfied: pyobjc-framework-BusinessChat==8.5 in /Users/namitha/opt/anaconda3/lib/python3.9/site-packages (from pyobjc>=2.4->pyttsx3) (8.5)\n",
      "Requirement already satisfied: pyobjc-framework-NaturalLanguage==8.5 in /Users/namitha/opt/anaconda3/lib/python3.9/site-packages (from pyobjc>=2.4->pyttsx3) (8.5)\n",
      "Requirement already satisfied: pyobjc-framework-Network==8.5 in /Users/namitha/opt/anaconda3/lib/python3.9/site-packages (from pyobjc>=2.4->pyttsx3) (8.5)\n",
      "Requirement already satisfied: pyobjc-framework-UserNotifications==8.5 in /Users/namitha/opt/anaconda3/lib/python3.9/site-packages (from pyobjc>=2.4->pyttsx3) (8.5)\n"
     ]
    },
    {
     "name": "stdout",
     "output_type": "stream",
     "text": [
      "Requirement already satisfied: pyobjc-framework-VideoSubscriberAccount==8.5 in /Users/namitha/opt/anaconda3/lib/python3.9/site-packages (from pyobjc>=2.4->pyttsx3) (8.5)\n",
      "Requirement already satisfied: pyobjc-framework-AuthenticationServices==8.5 in /Users/namitha/opt/anaconda3/lib/python3.9/site-packages (from pyobjc>=2.4->pyttsx3) (8.5)\n",
      "Requirement already satisfied: pyobjc-framework-AutomaticAssessmentConfiguration==8.5 in /Users/namitha/opt/anaconda3/lib/python3.9/site-packages (from pyobjc>=2.4->pyttsx3) (8.5)\n",
      "Requirement already satisfied: pyobjc-framework-CoreHaptics==8.5 in /Users/namitha/opt/anaconda3/lib/python3.9/site-packages (from pyobjc>=2.4->pyttsx3) (8.5)\n",
      "Requirement already satisfied: pyobjc-framework-CoreMotion==8.5 in /Users/namitha/opt/anaconda3/lib/python3.9/site-packages (from pyobjc>=2.4->pyttsx3) (8.5)\n",
      "Requirement already satisfied: pyobjc-framework-DeviceCheck==8.5 in /Users/namitha/opt/anaconda3/lib/python3.9/site-packages (from pyobjc>=2.4->pyttsx3) (8.5)\n",
      "Requirement already satisfied: pyobjc-framework-ExecutionPolicy==8.5 in /Users/namitha/opt/anaconda3/lib/python3.9/site-packages (from pyobjc>=2.4->pyttsx3) (8.5)\n",
      "Requirement already satisfied: pyobjc-framework-FileProvider==8.5 in /Users/namitha/opt/anaconda3/lib/python3.9/site-packages (from pyobjc>=2.4->pyttsx3) (8.5)\n",
      "Requirement already satisfied: pyobjc-framework-FileProviderUI==8.5 in /Users/namitha/opt/anaconda3/lib/python3.9/site-packages (from pyobjc>=2.4->pyttsx3) (8.5)\n",
      "Requirement already satisfied: pyobjc-framework-LinkPresentation==8.5 in /Users/namitha/opt/anaconda3/lib/python3.9/site-packages (from pyobjc>=2.4->pyttsx3) (8.5)\n",
      "Requirement already satisfied: pyobjc-framework-OSLog==8.5 in /Users/namitha/opt/anaconda3/lib/python3.9/site-packages (from pyobjc>=2.4->pyttsx3) (8.5)\n",
      "Requirement already satisfied: pyobjc-framework-PencilKit==8.5 in /Users/namitha/opt/anaconda3/lib/python3.9/site-packages (from pyobjc>=2.4->pyttsx3) (8.5)\n",
      "Requirement already satisfied: pyobjc-framework-PushKit==8.5 in /Users/namitha/opt/anaconda3/lib/python3.9/site-packages (from pyobjc>=2.4->pyttsx3) (8.5)\n",
      "Requirement already satisfied: pyobjc-framework-QuickLookThumbnailing==8.5 in /Users/namitha/opt/anaconda3/lib/python3.9/site-packages (from pyobjc>=2.4->pyttsx3) (8.5)\n",
      "Requirement already satisfied: pyobjc-framework-Speech==8.5 in /Users/namitha/opt/anaconda3/lib/python3.9/site-packages (from pyobjc>=2.4->pyttsx3) (8.5)\n",
      "Requirement already satisfied: pyobjc-framework-SoundAnalysis==8.5 in /Users/namitha/opt/anaconda3/lib/python3.9/site-packages (from pyobjc>=2.4->pyttsx3) (8.5)\n",
      "Requirement already satisfied: pyobjc-framework-SystemExtensions==8.5 in /Users/namitha/opt/anaconda3/lib/python3.9/site-packages (from pyobjc>=2.4->pyttsx3) (8.5)\n",
      "Requirement already satisfied: pyobjc-framework-Accessibility==8.5 in /Users/namitha/opt/anaconda3/lib/python3.9/site-packages (from pyobjc>=2.4->pyttsx3) (8.5)\n",
      "Requirement already satisfied: pyobjc-framework-AdServices==8.5 in /Users/namitha/opt/anaconda3/lib/python3.9/site-packages (from pyobjc>=2.4->pyttsx3) (8.5)\n",
      "Requirement already satisfied: pyobjc-framework-AppTrackingTransparency==8.5 in /Users/namitha/opt/anaconda3/lib/python3.9/site-packages (from pyobjc>=2.4->pyttsx3) (8.5)\n",
      "Requirement already satisfied: pyobjc-framework-CallKit==8.5 in /Users/namitha/opt/anaconda3/lib/python3.9/site-packages (from pyobjc>=2.4->pyttsx3) (8.5)\n",
      "Requirement already satisfied: pyobjc-framework-ClassKit==8.5 in /Users/namitha/opt/anaconda3/lib/python3.9/site-packages (from pyobjc>=2.4->pyttsx3) (8.5)\n",
      "Requirement already satisfied: pyobjc-framework-KernelManagement==8.5 in /Users/namitha/opt/anaconda3/lib/python3.9/site-packages (from pyobjc>=2.4->pyttsx3) (8.5)\n",
      "Requirement already satisfied: pyobjc-framework-MetalPerformanceShadersGraph==8.5 in /Users/namitha/opt/anaconda3/lib/python3.9/site-packages (from pyobjc>=2.4->pyttsx3) (8.5)\n",
      "Requirement already satisfied: pyobjc-framework-MLCompute==8.5 in /Users/namitha/opt/anaconda3/lib/python3.9/site-packages (from pyobjc>=2.4->pyttsx3) (8.5)\n",
      "Requirement already satisfied: pyobjc-framework-PassKit==8.5 in /Users/namitha/opt/anaconda3/lib/python3.9/site-packages (from pyobjc>=2.4->pyttsx3) (8.5)\n",
      "Requirement already satisfied: pyobjc-framework-ReplayKit==8.5 in /Users/namitha/opt/anaconda3/lib/python3.9/site-packages (from pyobjc>=2.4->pyttsx3) (8.5)\n",
      "Requirement already satisfied: pyobjc-framework-ScreenTime==8.5 in /Users/namitha/opt/anaconda3/lib/python3.9/site-packages (from pyobjc>=2.4->pyttsx3) (8.5)\n",
      "Requirement already satisfied: pyobjc-framework-UniformTypeIdentifiers==8.5 in /Users/namitha/opt/anaconda3/lib/python3.9/site-packages (from pyobjc>=2.4->pyttsx3) (8.5)\n",
      "Requirement already satisfied: pyobjc-framework-UserNotificationsUI==8.5 in /Users/namitha/opt/anaconda3/lib/python3.9/site-packages (from pyobjc>=2.4->pyttsx3) (8.5)\n",
      "Requirement already satisfied: pyobjc-framework-Virtualization==8.5 in /Users/namitha/opt/anaconda3/lib/python3.9/site-packages (from pyobjc>=2.4->pyttsx3) (8.5)\n",
      "Requirement already satisfied: pyobjc-framework-DataDetection==8.5 in /Users/namitha/opt/anaconda3/lib/python3.9/site-packages (from pyobjc>=2.4->pyttsx3) (8.5)\n",
      "Requirement already satisfied: pyobjc-framework-IntentsUI==8.5 in /Users/namitha/opt/anaconda3/lib/python3.9/site-packages (from pyobjc>=2.4->pyttsx3) (8.5)\n",
      "Requirement already satisfied: pyobjc-framework-LocalAuthenticationEmbeddedUI==8.5 in /Users/namitha/opt/anaconda3/lib/python3.9/site-packages (from pyobjc>=2.4->pyttsx3) (8.5)\n",
      "Requirement already satisfied: pyobjc-framework-MailKit==8.5 in /Users/namitha/opt/anaconda3/lib/python3.9/site-packages (from pyobjc>=2.4->pyttsx3) (8.5)\n",
      "Requirement already satisfied: pyobjc-framework-MetricKit==8.5 in /Users/namitha/opt/anaconda3/lib/python3.9/site-packages (from pyobjc>=2.4->pyttsx3) (8.5)\n",
      "Requirement already satisfied: pyobjc-framework-ShazamKit==8.5 in /Users/namitha/opt/anaconda3/lib/python3.9/site-packages (from pyobjc>=2.4->pyttsx3) (8.5)\n",
      "Collecting pyobjc-framework-ScreenCaptureKit==8.5 (from pyobjc>=2.4->pyttsx3)\n",
      "  Downloading pyobjc_framework_ScreenCaptureKit-8.5-cp39-cp39-macosx_10_9_universal2.whl (9.8 kB)\n",
      "Requirement already satisfied: pyobjc-framework-CalendarStore==8.5 in /Users/namitha/opt/anaconda3/lib/python3.9/site-packages (from pyobjc>=2.4->pyttsx3) (8.5)\n",
      "Requirement already satisfied: pyobjc-framework-Collaboration==8.5 in /Users/namitha/opt/anaconda3/lib/python3.9/site-packages (from pyobjc>=2.4->pyttsx3) (8.5)\n",
      "Requirement already satisfied: pyobjc-framework-DictionaryServices==8.5 in /Users/namitha/opt/anaconda3/lib/python3.9/site-packages (from pyobjc>=2.4->pyttsx3) (8.5)\n",
      "Requirement already satisfied: pyobjc-framework-FSEvents==8.5 in /Users/namitha/opt/anaconda3/lib/python3.9/site-packages (from pyobjc>=2.4->pyttsx3) (8.5)\n",
      "Requirement already satisfied: pyobjc-framework-InputMethodKit==8.5 in /Users/namitha/opt/anaconda3/lib/python3.9/site-packages (from pyobjc>=2.4->pyttsx3) (8.5)\n",
      "Requirement already satisfied: pyobjc-framework-InstantMessage==8.5 in /Users/namitha/opt/anaconda3/lib/python3.9/site-packages (from pyobjc>=2.4->pyttsx3) (8.5)\n",
      "Requirement already satisfied: pyobjc-framework-ScriptingBridge==8.5 in /Users/namitha/opt/anaconda3/lib/python3.9/site-packages (from pyobjc>=2.4->pyttsx3) (8.5)\n",
      "Installing collected packages: pyobjc-framework-ScreenCaptureKit, pyttsx3\n",
      "Successfully installed pyobjc-framework-ScreenCaptureKit-8.5 pyttsx3-2.90\n",
      "Note: you may need to restart the kernel to use updated packages.\n"
     ]
    }
   ],
   "source": [
    "pip install pyttsx3"
   ]
  },
  {
   "cell_type": "code",
   "execution_count": 35,
   "id": "8d8a1394",
   "metadata": {},
   "outputs": [],
   "source": [
    "import pyttsx3"
   ]
  },
  {
   "cell_type": "code",
   "execution_count": 36,
   "id": "137ae476",
   "metadata": {},
   "outputs": [],
   "source": [
    "# initializing\n",
    "ttsConvert = pyttsx3.init()"
   ]
  },
  {
   "cell_type": "code",
   "execution_count": 37,
   "id": "991c0e0c",
   "metadata": {},
   "outputs": [],
   "source": [
    "# adjust speech rate according to your preference.\n",
    "ttsConvert.setProperty('rate', 150)  "
   ]
  },
  {
   "cell_type": "code",
   "execution_count": null,
   "id": "2290302b",
   "metadata": {},
   "outputs": [],
   "source": [
    "# text = \"Welcome to my text-to-speech converter.\"\n",
    "text=str(input(\"Enter the text you want to convert to speech:\\n\"))"
   ]
  },
  {
   "cell_type": "code",
   "execution_count": 39,
   "id": "355e30f0",
   "metadata": {},
   "outputs": [],
   "source": [
    "# converts text to speech\n",
    "ttsConvert.say(text)"
   ]
  },
  {
   "cell_type": "code",
   "execution_count": 40,
   "id": "50a54873",
   "metadata": {},
   "outputs": [],
   "source": [
    "#  play the speech \n",
    "ttsConvert.runAndWait()"
   ]
  },
  {
   "cell_type": "code",
   "execution_count": null,
   "id": "6bc956be",
   "metadata": {},
   "outputs": [],
   "source": []
  }
 ],
 "metadata": {
  "kernelspec": {
   "display_name": "Python 3 (ipykernel)",
   "language": "python",
   "name": "python3"
  },
  "language_info": {
   "codemirror_mode": {
    "name": "ipython",
    "version": 3
   },
   "file_extension": ".py",
   "mimetype": "text/x-python",
   "name": "python",
   "nbconvert_exporter": "python",
   "pygments_lexer": "ipython3",
   "version": "3.9.12"
  }
 },
 "nbformat": 4,
 "nbformat_minor": 5
}
