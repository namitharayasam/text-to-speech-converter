{
 "cells": [
  {
   "cell_type": "markdown",
   "id": "4236d6a8",
   "metadata": {},
   "source": [
    "# Using gTTS"
   ]
  },
  {
   "cell_type": "code",
   "execution_count": null,
   "id": "27b4d9f2",
   "metadata": {
    "collapsed": true
   },
   "outputs": [],
   "source": [
    "!pip install --upgrade pip"
   ]
  },
  {
   "cell_type": "code",
   "execution_count": null,
   "id": "5af018cb",
   "metadata": {
    "collapsed": true
   },
   "outputs": [],
   "source": [
    "!pip install gTTS"
   ]
  },
  {
   "cell_type": "code",
   "execution_count": 3,
   "id": "353745db",
   "metadata": {},
   "outputs": [],
   "source": [
    "from gtts import gTTS"
   ]
  },
  {
   "cell_type": "code",
   "execution_count": 5,
   "id": "5a334e22",
   "metadata": {},
   "outputs": [
    {
     "name": "stdout",
     "output_type": "stream",
     "text": [
      "Enter the text you want to convert to speech:\n",
      "Welcome to my text to speech converter \n"
     ]
    }
   ],
   "source": [
    "# take text input from user \n",
    "text=str(input(\"Enter the text you want to convert to speech:\\n\"))"
   ]
  },
  {
   "cell_type": "code",
   "execution_count": 6,
   "id": "0b681c61",
   "metadata": {},
   "outputs": [],
   "source": [
    "# convert the entered text to speech\n",
    "textToSpeech=gTTS(text)"
   ]
  },
  {
   "cell_type": "code",
   "execution_count": 15,
   "id": "375830bb",
   "metadata": {},
   "outputs": [],
   "source": [
    "# save the audio file to desired location\n",
    "textToSpeech.save(\"/enter/path/to/save/filename.mp3\")"
   ]
  },
  {
   "cell_type": "markdown",
   "id": "c7464b7d",
   "metadata": {},
   "source": [
    "# Using pyttsx3"
   ]
  },
  {
   "cell_type": "code",
   "execution_count": null,
   "id": "d7f8aeaf",
   "metadata": {
    "collapsed": true
   },
   "outputs": [],
   "source": [
    "!pip install pyttsx3"
   ]
  },
  {
   "cell_type": "code",
   "execution_count": 7,
   "id": "5e20a93e",
   "metadata": {},
   "outputs": [],
   "source": [
    "import pyttsx3"
   ]
  },
  {
   "cell_type": "code",
   "execution_count": 8,
   "id": "379e1445",
   "metadata": {},
   "outputs": [],
   "source": [
    "# initializing\n",
    "ttsConvert = pyttsx3.init()"
   ]
  },
  {
   "cell_type": "code",
   "execution_count": 9,
   "id": "ec213cf3",
   "metadata": {},
   "outputs": [],
   "source": [
    "# adjust speech rate according to your preference.\n",
    "ttsConvert.setProperty('rate', 150)  "
   ]
  },
  {
   "cell_type": "code",
   "execution_count": 11,
   "id": "90d25bbe",
   "metadata": {},
   "outputs": [
    {
     "name": "stdout",
     "output_type": "stream",
     "text": [
      "Enter the text you want to convert to speech:\n",
      "Welcome to my text to speech converter\n"
     ]
    }
   ],
   "source": [
    "# text = \"Welcome to my text-to-speech converter.\"\n",
    "text=str(input(\"Enter the text you want to convert to speech:\\n\"))"
   ]
  },
  {
   "cell_type": "code",
   "execution_count": 12,
   "id": "92903c76",
   "metadata": {},
   "outputs": [],
   "source": [
    "# converts text to speech\n",
    "ttsConvert.say(text)"
   ]
  },
  {
   "cell_type": "code",
   "execution_count": 13,
   "id": "07231d80",
   "metadata": {},
   "outputs": [],
   "source": [
    "#  play the speech \n",
    "ttsConvert.runAndWait()"
   ]
  },
  {
   "cell_type": "code",
   "execution_count": null,
   "id": "0806610c",
   "metadata": {},
   "outputs": [],
   "source": []
  }
 ],
 "metadata": {
  "kernelspec": {
   "display_name": "Python 3 (ipykernel)",
   "language": "python",
   "name": "python3"
  },
  "language_info": {
   "codemirror_mode": {
    "name": "ipython",
    "version": 3
   },
   "file_extension": ".py",
   "mimetype": "text/x-python",
   "name": "python",
   "nbconvert_exporter": "python",
   "pygments_lexer": "ipython3",
   "version": "3.9.12"
  }
 },
 "nbformat": 4,
 "nbformat_minor": 5
}
